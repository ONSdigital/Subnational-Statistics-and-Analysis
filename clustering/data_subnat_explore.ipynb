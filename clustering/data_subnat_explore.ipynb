{
 "cells": [
  {
   "cell_type": "code",
   "execution_count": null,
   "metadata": {
    "collapsed": true
   },
   "outputs": [],
   "source": [
    "from google.cloud import bigquery\n",
    "import pandas as pd"
   ]
  },
  {
   "cell_type": "code",
   "execution_count": null,
   "metadata": {
    "collapsed": true
   },
   "outputs": [],
   "source": [
    "#Does this work for storing git credentials?\n",
    "#Yes.\n",
    "#!git config --global credential.helper store"
   ]
  },
  {
   "cell_type": "code",
   "execution_count": null,
   "metadata": {},
   "outputs": [],
   "source": [
    "client = bigquery.Client(location=\" europe-west2\")\n",
    "print(\"Client creating using default project: {}\".format(client.project))"
   ]
  },
  {
   "cell_type": "code",
   "execution_count": null,
   "metadata": {},
   "outputs": [],
   "source": [
    "query = \"\"\"\n",
    "    SELECT AREACD, Indicator, Category, Value \n",
    "    FROM `project.ingest_dataset.ingest_table` \n",
    "    \n",
    "\"\"\"\n",
    "query_job = client.query(\n",
    "    query,\n",
    "    # Location must match that of the dataset(s) referenced in the query.\n",
    "    location=\"location\",\n",
    ")  # API request - starts the query\n",
    "\n",
    "all_metrics = query_job.to_dataframe()\n",
    "all_metrics"
   ]
  },
  {
   "cell_type": "code",
   "execution_count": null,
   "metadata": {},
   "outputs": [],
   "source": [
    "metrics_wide = pd.pivot(all_metrics, values='Value', columns='Indicator', index='AREACD').reindex()\n",
    "metrics_wide"
   ]
  },
  {
   "cell_type": "code",
   "execution_count": null,
   "metadata": {},
   "outputs": [],
   "source": [
    "corr = metrics_wide.corr()\n",
    "corr.style.background_gradient(cmap='rainbow')"
   ]
  },
  {
   "cell_type": "code",
   "execution_count": null,
   "metadata": {},
   "outputs": [],
   "source": [
    "metrics_wide.plot.scatter(x=\"5 year olds achieving 'expected level' on communication early learning goals\",\n",
    "                          y=\"5 year olds achieving 'expected level' on maths early learning goals\")"
   ]
  },
  {
   "cell_type": "code",
   "execution_count": null,
   "metadata": {},
   "outputs": [],
   "source": [
    "metrics_wide.hist(\"Male healthy life expectancy\")"
   ]
  },
  {
   "cell_type": "code",
   "execution_count": null,
   "metadata": {
    "collapsed": true
   },
   "outputs": [],
   "source": [
    "##Subset by category\n",
    "living_standards = all_metrics[all_metrics['Category'].str.contains('Living Standards')]\n",
    "living_standards = pd.pivot_table(living_standards, values='Value', columns='Indicator', index='AREACD').reindex()\n",
    "\n",
    "spreading_opp = all_metrics[all_metrics['Category'].str.contains('opportunity')]\n",
    "spreading_opp = pd.pivot_table(spreading_opp, values='Value', columns='Indicator', index='AREACD').reindex()\n",
    "\n",
    "local_pride = all_metrics[all_metrics['Category'].str.contains('local pride')]\n",
    "local_pride = pd.pivot_table(local_pride, values='Value', columns='Indicator', index='AREACD').reindex()\n"
   ]
  },
  {
   "cell_type": "code",
   "execution_count": null,
   "metadata": {
    "collapsed": true
   },
   "outputs": [],
   "source": [
    "#Need to remove NaN values.\n",
    "liv_reduced = living_standards[living_standards.notna().all(axis=1)]\n",
    "loc_reduced = local_pride[local_pride.notna().all(axis=1)]\n",
    "opp_reduced = spreading_opp[spreading_opp.notna().all(axis=1)]\n",
    "\n",
    "#Then we can do scaling and then run a k-means\n",
    "from sklearn.preprocessing import StandardScaler\n",
    "scaler = StandardScaler()\n",
    "liv_scaled = scaler.fit_transform(liv_reduced)\n",
    "loc_scaled = scaler.fit_transform(loc_reduced)\n",
    "opp_scaled = scaler.fit_transform(opp_reduced)"
   ]
  },
  {
   "cell_type": "code",
   "execution_count": null,
   "metadata": {
    "collapsed": true
   },
   "outputs": [],
   "source": [
    "#Do the clustering. Here assume it's reasonable-ish to cluster into 3 (high/med/low)\n",
    "from sklearn.cluster import KMeans\n",
    "kmeans = KMeans(n_clusters=3, n_init=10, max_iter=300)\n",
    "\n",
    "kmeans.fit(liv_reduced)\n",
    "liv_clusters = pd.DataFrame(liv_reduced.reset_index()['AREACD'])\n",
    "liv_clusters['Cluster'] = kmeans.labels_\n",
    "\n",
    "kmeans.fit(loc_reduced)\n",
    "loc_clusters = pd.DataFrame(loc_reduced.reset_index()['AREACD'])\n",
    "loc_clusters['Cluster'] = kmeans.labels_\n",
    "\n",
    "kmeans.fit(opp_reduced)\n",
    "opp_clusters = pd.DataFrame(opp_reduced.reset_index()['AREACD'])\n",
    "opp_clusters['Cluster'] = kmeans.labels_"
   ]
  },
  {
   "cell_type": "code",
   "execution_count": null,
   "metadata": {},
   "outputs": [],
   "source": [
    "#Get geospatial data via a query.\n",
    "import geopandas\n",
    "\n",
    "query = \"\"\"\n",
    "    SELECT LAD20CD, geom, BNG_E, BNG_N\n",
    "    FROM `project.geography_ingest_dataset.geography_ingest_table`\n",
    "    \n",
    "\"\"\"\n",
    "query_job = client.query(\n",
    "    query,\n",
    "    # Location must match that of the dataset(s) referenced in the query.\n",
    "    location=\"location\",\n",
    ")  # API request - starts the query\n",
    "\n",
    "la_geo = query_job.to_geodataframe\n",
    "la_geo()"
   ]
  },
  {
   "cell_type": "code",
   "execution_count": null,
   "metadata": {
    "collapsed": true
   },
   "outputs": [],
   "source": [
    "#This is a bit messy, had to do it backwards as la_geo is a GEO_dataframe, others are regular dataframes.\n",
    "#So changed order and did right <-> left\n",
    "opp_clusters = la_geo().merge(opp_clusters, right_on = 'AREACD', left_on = 'LAD20CD', how='right')\n",
    "liv_clusters = la_geo().merge(liv_clusters, right_on = 'AREACD', left_on = 'LAD20CD', how='right')\n",
    "loc_clusters = la_geo().merge(loc_clusters, right_on = 'AREACD', left_on = 'LAD20CD', how='right')\n"
   ]
  },
  {
   "cell_type": "code",
   "execution_count": null,
   "metadata": {
    "collapsed": true
   },
   "outputs": [],
   "source": [
    "#Plotting. Test out package installs.\n",
    "#!pip install geopandas"
   ]
  },
  {
   "cell_type": "code",
   "execution_count": null,
   "metadata": {},
   "outputs": [],
   "source": [
    "opp_clusters.plot(column = \"Cluster\")\n",
    "loc_clusters.plot(column = \"Cluster\")\n",
    "liv_clusters.plot(column = \"Cluster\")"
   ]
  }
 ],
 "metadata": {
  "environment": {
   "kernel": "python3",
   "name": "common-cpu.m91",
   "type": "gcloud",
   "uri": "gcr.io/deeplearning-platform-release/base-cpu:m91"
  },
  "kernelspec": {
   "display_name": "Python 3",
   "language": "python",
   "name": "python3"
  },
  "language_info": {
   "codemirror_mode": {
    "name": "ipython",
    "version": 3
   },
   "file_extension": ".py",
   "mimetype": "text/x-python",
   "name": "python",
   "nbconvert_exporter": "python",
   "pygments_lexer": "ipython3",
   "version": "3.7.12"
  }
 },
 "nbformat": 4,
 "nbformat_minor": 5
}
