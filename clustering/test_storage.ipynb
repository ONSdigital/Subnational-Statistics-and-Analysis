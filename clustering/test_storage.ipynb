{
 "cells": [
  {
   "cell_type": "code",
   "execution_count": null,
   "metadata": {
    "collapsed": true
   },
   "outputs": [],
   "source": [
    "from data_import import get_data_from_bq, save_dataframe_to_wip \n"
   ]
  },
  {
   "cell_type": "code",
   "execution_count": null,
   "metadata": {},
   "outputs": [],
   "source": [
    "sql = \"\"\"\n",
    "SELECT Indicator, Category, Measure, Unit \n",
    "    FROM `project.ingest_dataset_name.ingest_table_name` \n",
    "\"\"\"\n",
    "df = get_data_from_bq(sql)\n",
    "df= df.drop_duplicates()\n",
    "df.shape"
   ]
  },
  {
   "cell_type": "code",
   "execution_count": null,
   "metadata": {},
   "outputs": [],
   "source": [
    "#A test to save to output area.\n",
    "save_dataframe_to_wip(df, \"explore_subnat_metrics\")"
   ]
  },
  {
   "cell_type": "code",
   "execution_count": null,
   "metadata": {},
   "outputs": [],
   "source": [
    "#Some other checks\n",
    "#Can I write to a table that doesn't already exist?\n",
    "save_dataframe_to_wip(df, \"explore_subnat_metrics\", WIP_dataset=\"wip_dataset\")\n",
    "#Looks like I can't."
   ]
  },
  {
   "cell_type": "code",
   "execution_count": null,
   "metadata": {},
   "outputs": [],
   "source": [
    "#Can I write to outputs-prod directly? I think I shouldn't be able to.\n",
    "save_dataframe_to_wip(df, \"explore_subnat_metrics\", project=\"project\", WIP_dataset=\"wip_dataset\")\n",
    "#No -- permission is denied."
   ]
  }
 ],
 "metadata": {
  "environment": {
   "kernel": "python3",
   "name": "common-cpu.m91",
   "type": "gcloud",
   "uri": "gcr.io/deeplearning-platform-release/base-cpu:m91"
  },
  "kernelspec": {
   "display_name": "Python 3",
   "language": "python",
   "name": "python3"
  },
  "language_info": {
   "codemirror_mode": {
    "name": "ipython",
    "version": 3
   },
   "file_extension": ".py",
   "mimetype": "text/x-python",
   "name": "python",
   "nbconvert_exporter": "python",
   "pygments_lexer": "ipython3",
   "version": "3.7.12"
  }
 },
 "nbformat": 4,
 "nbformat_minor": 5
}
