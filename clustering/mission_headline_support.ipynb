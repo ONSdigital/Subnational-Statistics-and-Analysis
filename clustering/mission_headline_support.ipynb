{
 "cells": [
  {
   "cell_type": "code",
   "execution_count": null,
   "metadata": {
    "collapsed": true
   },
   "outputs": [],
   "source": [
    "#One thing we could look at is the missions and supporting metrics given in the LU white paper annex.\n",
    "#Published at: https://assets.publishing.service.gov.uk/government/uploads/system/uploads/attachment_data/file/1054766/Technical_annex_-_missions_and_metrics.pdf\n",
    "#Will use the data we have on LUDA from the sub-nat explorer.\n",
    "exec(open(\"data_prep/subnat_data_import.py\").read()) \n",
    "from data_prep.subnat_data_clean import *"
   ]
  },
  {
   "cell_type": "code",
   "execution_count": null,
   "metadata": {
    "collapsed": true
   },
   "outputs": [],
   "source": [
    "#Get the metrics which are headline or supporting metrics for each mission.\n",
    "#Use the 'top' headline as 1st entry, as this is what gets used for ranking clusters.\n",
    "mission1 = [gva, weekly_pay, employ_rate, gdi]\n",
    "#mission2 = [] #No metrics for this mission available\n",
    "mission3 = [travel_car, travel_bike, travel_public]\n",
    "mission4 = [broadband, mobile4g]\n",
    "mission5 = [gcses, good_schools, lit_5, maths_5, comm_5]\n",
    "mission6 = [app_start, app_completion] ##NOTE - these are NOT per 1000\n",
    "mission7 = [male_hle, female_hle, smoking, adult_obesity, child_obesity]\n",
    "mission8 = [satisfaction, anxiety, worthwhile, happiness]\n",
    "#Note, missions 9 through 12 have no metrics on LUDA, apart from additions to housing stock"
   ]
  },
  {
   "cell_type": "code",
   "execution_count": null,
   "metadata": {
    "collapsed": true
   },
   "outputs": [],
   "source": [
    "missions = [mission1, mission3, mission4, mission5, mission6, mission7, mission8]\n",
    "for mission in missions:\n",
    "    mission = clean_groups(mission)"
   ]
  },
  {
   "cell_type": "code",
   "execution_count": null,
   "metadata": {
    "collapsed": true
   },
   "outputs": [],
   "source": [
    "#Do the clustering.\n",
    "from cluster_analysis.cluster_functions import *\n",
    "clustering_model = make_clustering_model()"
   ]
  },
  {
   "cell_type": "code",
   "execution_count": null,
   "metadata": {
    "collapsed": true
   },
   "outputs": [],
   "source": [
    "#Convert missions to wide format\n",
    "table1 = metrics_to_table(mission1)\n",
    "table3 = metrics_to_table(mission3)\n",
    "table4 = metrics_to_table(mission4)\n",
    "table5 = metrics_to_table(mission5)\n",
    "table6 = metrics_to_table(mission6)\n",
    "table7 = metrics_to_table(mission7)\n",
    "table8 = metrics_to_table(mission8)"
   ]
  },
  {
   "cell_type": "code",
   "execution_count": null,
   "metadata": {
    "collapsed": true
   },
   "outputs": [],
   "source": [
    "#Generate groups of clusters\n",
    "clusters1 = clusters_and_plots(table1, clustering_model, show_plots=True)\n",
    "clusters3 = clusters_and_plots(table3, clustering_model, show_plots=True)\n",
    "clusters4 = clusters_and_plots(table4, clustering_model, show_plots=True)\n",
    "clusters5 = clusters_and_plots(table5, clustering_model, show_plots=True)\n",
    "clusters6 = clusters_and_plots(table6, clustering_model, show_plots=True)\n",
    "clusters7 = clusters_and_plots(table7, clustering_model, show_plots=True)\n",
    "clusters8 = clusters_and_plots(table8, clustering_model, show_plots=True)"
   ]
  },
  {
   "cell_type": "code",
   "execution_count": null,
   "metadata": {
    "collapsed": true
   },
   "outputs": [],
   "source": [
    "#Prep for bubble plots\n",
    "from data_vis.bubble_plots import *\n",
    "all_clusters = [clusters1, clusters3, clusters4, clusters5, clusters6, clusters7, clusters8]\n",
    "\n",
    "#Annoyingly this function only works when declared at main level (not in module due to globals())\n",
    "def variable_to_name(var):\n",
    "    \"\"\"Helper function with takes in a variable and return a string of that variables name.\n",
    "    If the variable doesn't exist, will return null.\n",
    "    Might go wrong if there are multiple declared variables with identical values!\n",
    "    \"\"\"\n",
    "    for name in globals():\n",
    "        if (eval(name) is var) and (not name.startswith(\"_\")): #Omit variables in globals with begin with _, as __ is shorthand for last evaluated result and in jupyter notebooks _1 return output of cell evaluation 1 etc.\n",
    "            return(name)\n",
    "\n",
    "labels = [variable_to_name(all_clusters[i]) for i in range(len(all_clusters))]\n",
    "all_clusters = combine_clusters(all_clusters, labels)"
   ]
  },
  {
   "cell_type": "code",
   "execution_count": null,
   "metadata": {
    "collapsed": true
   },
   "outputs": [],
   "source": [
    "#Look into bubble plots.\n",
    "#Missions 1,5,7,8 are most interesting. 5 has quite a lot of clusters, quite complex.\n",
    "#Missions 3 and 4 OK?\n",
    "plot_bubbles('clusters1', 'clusters5', all_clusters)\n",
    "plot_bubbles('clusters1', 'clusters7', all_clusters)\n",
    "plot_bubbles('clusters1', 'clusters8', all_clusters)"
   ]
  },
  {
   "cell_type": "code",
   "execution_count": null,
   "metadata": {
    "collapsed": true
   },
   "outputs": [],
   "source": [
    "#Look at cross-over between missions 5,7,8\n",
    "plot_bubbles('clusters5', 'clusters7', all_clusters)\n",
    "plot_bubbles('clusters5', 'clusters8', all_clusters)\n",
    "plot_bubbles('clusters7', 'clusters8', all_clusters)"
   ]
  },
  {
   "cell_type": "code",
   "execution_count": null,
   "metadata": {
    "collapsed": true
   },
   "outputs": [],
   "source": [
    "plot_bubbles('clusters3', 'clusters4', all_clusters)"
   ]
  }
 ],
 "metadata": {
  "environment": {
   "kernel": "python3",
   "name": "common-cpu.m91",
   "type": "gcloud",
   "uri": "gcr.io/deeplearning-platform-release/base-cpu:m91"
  },
  "kernelspec": {
   "display_name": "Python 3",
   "language": "python",
   "name": "python3"
  },
  "language_info": {
   "codemirror_mode": {
    "name": "ipython",
    "version": 3
   },
   "file_extension": ".py",
   "mimetype": "text/x-python",
   "name": "python",
   "nbconvert_exporter": "python",
   "pygments_lexer": "ipython3",
   "version": "3.7.12"
  }
 },
 "nbformat": 4,
 "nbformat_minor": 5
}
