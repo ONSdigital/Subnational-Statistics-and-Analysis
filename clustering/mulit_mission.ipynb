{
 "cells": [
  {
   "cell_type": "code",
   "execution_count": null,
   "metadata": {},
   "outputs": [],
   "source": [
    "#A variation on mission based clustering. What happens if we try all metrics? Or headlines?\n",
    "exec(open(\"data_prep/subnat_data_import.py\").read()) \n",
    "from data_prep.subnat_data_clean import *"
   ]
  },
  {
   "cell_type": "code",
   "execution_count": null,
   "metadata": {
    "collapsed": true
   },
   "outputs": [],
   "source": [
    "#Get the metrics which are headline or supporting metrics for each mission.\n",
    "#Use the 'top' headline as 1st entry, as this is what gets used for ranking clusters.\n",
    "all_missions = [gva, weekly_pay, employ_rate, gdi, \n",
    "                travel_car, travel_bike, travel_public, \n",
    "                broadband, mobile4g,\n",
    "                gcses, good_schools, lit_5, maths_5, comm_5,\n",
    "                app_start, app_completion,\n",
    "                male_hle, female_hle, smoking, adult_obesity, child_obesity,\n",
    "                satisfaction, anxiety, worthwhile, happiness]\n",
    "\n",
    "#Use apprecenticeship completion rate to normalise approximately by population before looking at headlines.\n",
    "app_rate = app_completion.merge(app_start, on=\"AREACD\", how='inner')\n",
    "app_rate['Value'] = app_rate['Value_x']/app_rate['Value_y']\n",
    "app_rate['Indicator'] = 'Approx apprenticeship completion rate'\n",
    "app_rate.pop('Value_x')\n",
    "app_rate = app_rate[['AREACD', 'Indicator', 'Value']]\n",
    "\n",
    "headline_one_per_mission = [gva, travel_car, broadband, gcses, app_rate, female_hle, satisfaction]                \n",
    "#Try omitting transport as that seems to have most NAs\n",
    "headline_one_per_mission_no_transport = [gva, broadband, app_rate, gcses, female_hle, satisfaction]                "
   ]
  },
  {
   "cell_type": "code",
   "execution_count": null,
   "metadata": {
    "collapsed": true
   },
   "outputs": [],
   "source": [
    "all_missions = clean_groups(all_missions)\n",
    "headline_one_per_mission = clean_groups(headline_one_per_mission)\n",
    "headline_one_per_mission_nt = clean_groups(headline_one_per_mission_no_transport)"
   ]
  },
  {
   "cell_type": "code",
   "execution_count": null,
   "metadata": {
    "collapsed": true
   },
   "outputs": [],
   "source": [
    "#Do the clustering.\n",
    "from cluster_analysis.cluster_functions import *\n",
    "clustering_model = make_clustering_model()"
   ]
  },
  {
   "cell_type": "code",
   "execution_count": null,
   "metadata": {
    "collapsed": true
   },
   "outputs": [],
   "source": [
    "#Convert missions to wide format\n",
    "table_all = metrics_to_table(all_missions)\n",
    "table_headline = metrics_to_table(headline_one_per_mission)\n",
    "table_headline_nt = metrics_to_table(headline_one_per_mission_nt)\n"
   ]
  },
  {
   "cell_type": "code",
   "execution_count": null,
   "metadata": {},
   "outputs": [],
   "source": [
    "#Generate groups of clusters\n",
    "clusters_all = clusters_and_plots(table_all, clustering_model, show_plots=True)\n",
    "clusters_headline = clusters_and_plots(table_headline, clustering_model, show_plots=True)\n",
    "clusters_headline_nt = clusters_and_plots(table_headline_nt, clustering_model, show_plots=True)\n"
   ]
  }
 ],
 "metadata": {
  "environment": {
   "kernel": "python3",
   "name": "common-cpu.m91",
   "type": "gcloud",
   "uri": "gcr.io/deeplearning-platform-release/base-cpu:m91"
  },
  "kernelspec": {
   "display_name": "Python 3",
   "language": "python",
   "name": "python3"
  },
  "language_info": {
   "codemirror_mode": {
    "name": "ipython",
    "version": 3
   },
   "file_extension": ".py",
   "mimetype": "text/x-python",
   "name": "python",
   "nbconvert_exporter": "python",
   "pygments_lexer": "ipython3",
   "version": "3.7.12"
  }
 },
 "nbformat": 4,
 "nbformat_minor": 5
}
