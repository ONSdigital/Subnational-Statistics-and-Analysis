{
 "cells": [
  {
   "cell_type": "code",
   "execution_count": null,
   "metadata": {
    "collapsed": true
   },
   "outputs": [],
   "source": [
    "#Some simple exploration that will look at the shape of each metric's distribution"
   ]
  },
  {
   "cell_type": "code",
   "execution_count": null,
   "metadata": {
    "collapsed": true
   },
   "outputs": [],
   "source": [
    "#Get the subnational explorer metrics.\n",
    "from google.cloud import bigquery\n",
    "import pandas as pd\n",
    "client = bigquery.Client(location=\" europe-west2\")\n",
    "\n",
    "query = \"\"\"\n",
    "    SELECT AREACD, Indicator, Category, Value \n",
    "    FROM `project.ingest_dataset_name.ingest_table_name` \n",
    "    \n",
    "\"\"\"\n",
    "query_job = client.query(\n",
    "    query,\n",
    "    # Location must match that of the dataset(s) referenced in the query.\n",
    "    location=\"location\",\n",
    ")  # API request - starts the query\n",
    "\n",
    "all_metrics = query_job.to_dataframe()\n",
    "metrics_wide = pd.pivot(all_metrics, values='Value', columns='Indicator', index='AREACD').reindex()"
   ]
  },
  {
   "cell_type": "code",
   "execution_count": null,
   "metadata": {},
   "outputs": [],
   "source": [
    "import scipy.stats\n",
    "scipy.stats.skew(metrics_wide, axis=0, nan_policy='omit')\n",
    "#Reminder: skew > 0  means left-skewed. skew < 0 means right skewed.\n",
    "#scipy.stats.describe(metrics_wide, axis=0, nan_policy='omit')"
   ]
  },
  {
   "cell_type": "code",
   "execution_count": null,
   "metadata": {},
   "outputs": [],
   "source": [
    "#For reference, the metrics are in this order.\n",
    "list(metrics_wide)"
   ]
  },
  {
   "cell_type": "code",
   "execution_count": null,
   "metadata": {},
   "outputs": [],
   "source": [
    "#So we can we some of these metrics have obviously skewed distributions.\n",
    "skewtest = scipy.stats.skewtest(metrics_wide, axis=0, nan_policy='omit')\n",
    "print(skewtest.pvalue < 0.05)\n",
    "print(skewtest.pvalue)"
   ]
  },
  {
   "cell_type": "code",
   "execution_count": null,
   "metadata": {},
   "outputs": [],
   "source": [
    "#Can we get a list of metrics which appear to be correlated\n",
    "corr = metrics_wide.corr()\n",
    "n_metrics = corr.shape[0]\n",
    "high_corr=[]\n",
    "med_corr=[]\n",
    "for i in range(n_metrics):\n",
    "    for j in range(i+1, n_metrics):\n",
    "        if abs(corr.iloc[i,j]) > 0.5:\n",
    "               high_corr.append([corr.columns[i], corr.columns[j], corr.iloc[i,j]])\n",
    "        elif abs(corr.iloc[i,j]) > 0.3:\n",
    "               med_corr.append([corr.columns[i], corr.columns[j], corr.iloc[i,j]])\n",
    "high_corr        \n"
   ]
  },
  {
   "cell_type": "code",
   "execution_count": null,
   "metadata": {},
   "outputs": [],
   "source": [
    "len(high_corr)"
   ]
  },
  {
   "cell_type": "code",
   "execution_count": null,
   "metadata": {},
   "outputs": [],
   "source": [
    "len(high_corr[0][1])"
   ]
  },
  {
   "cell_type": "code",
   "execution_count": null,
   "metadata": {},
   "outputs": [],
   "source": [
    "def plot_high_corr(i, invert=True, auto_choose_orientation=False):\n",
    "    #Check the length of the labels. Maybe be easier to have the long one on the x axis.\n",
    "    if auto_choose_orientation:\n",
    "        if len(high_corr[i][1]) > len(high_corr[i][0]):\n",
    "            invert = True\n",
    "        else: \n",
    "            invert = False\n",
    "\n",
    "    if invert:\n",
    "        metrics_wide.plot.scatter(x=high_corr[i][1],\n",
    "                                  y=high_corr[i][0])\n",
    "    else:\n",
    "        metrics_wide.plot.scatter(x=high_corr[i][0],\n",
    "                                  y=high_corr[i][1])\n",
    "\n",
    "#Now can look at pair 41 more easily, which is between HLE and childhood attainment.\n",
    "plot_high_corr(41)\n",
    "plot_high_corr(38)"
   ]
  },
  {
   "cell_type": "code",
   "execution_count": null,
   "metadata": {},
   "outputs": [],
   "source": [
    "#Brute force plotting of interesting scatters.\n",
    "for pair in range(len(high_corr)):\n",
    "    plot_high_corr(pair)"
   ]
  },
  {
   "cell_type": "code",
   "execution_count": null,
   "metadata": {
    "collapsed": true
   },
   "outputs": [],
   "source": [
    "#Worth noting at this point on the correlations between apprenticeship starts/completions and housing stock:\n",
    "#These are all totals, so to a large extent depend on the population of the LA area.\n",
    "#Suspect these may be spurious, and that normalising by capita would be needed for this analysis.\n",
    "#Relatedly, that these don't correlate with anything else is not conclusive."
   ]
  },
  {
   "cell_type": "code",
   "execution_count": null,
   "metadata": {},
   "outputs": [],
   "source": [
    "#A test to look for visualising a third helpful explanatory variable.\n",
    "metrics_wide.plot.scatter(x=\"Young people achieving GCSEs (and equivalent qualifications) in English and Maths by age 19\",\n",
    "                          y=\"Male healthy life expectancy\",\n",
    "                          c=\"Adults that currently smoke cigarettes\", cmap='Reds')"
   ]
  }
 ],
 "metadata": {
  "environment": {
   "kernel": "python3",
   "name": "common-cpu.m91",
   "type": "gcloud",
   "uri": "gcr.io/deeplearning-platform-release/base-cpu:m91"
  },
  "kernelspec": {
   "display_name": "Python 3",
   "language": "python",
   "name": "python3"
  },
  "language_info": {
   "codemirror_mode": {
    "name": "ipython",
    "version": 3
   },
   "file_extension": ".py",
   "mimetype": "text/x-python",
   "name": "python",
   "nbconvert_exporter": "python",
   "pygments_lexer": "ipython3",
   "version": "3.7.12"
  }
 },
 "nbformat": 4,
 "nbformat_minor": 5
}
