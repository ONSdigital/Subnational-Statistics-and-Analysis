{
 "cells": [
  {
   "cell_type": "code",
   "execution_count": null,
   "metadata": {
    "collapsed": true
   },
   "outputs": [],
   "source": [
    "#This notebook is a test. Should give same outputs as productivity, but be shorter as I've *successfully* factored the code into scripts."
   ]
  },
  {
   "cell_type": "code",
   "execution_count": null,
   "metadata": {},
   "outputs": [],
   "source": [
    "exec(open(\"data_prep/subnat_data_import.py\").read()) "
   ]
  },
  {
   "cell_type": "code",
   "execution_count": null,
   "metadata": {
    "collapsed": true
   },
   "outputs": [],
   "source": [
    "from data_prep.subnat_data_clean import *"
   ]
  },
  {
   "cell_type": "code",
   "execution_count": null,
   "metadata": {
    "collapsed": true
   },
   "outputs": [],
   "source": [
    "#Convert apprenticeships into a rate\n",
    "app_rate = app_completion.merge(app_start, on=\"AREACD\", how='inner')\n",
    "app_rate['Value'] = app_rate['Value_x']/app_rate['Value_y']\n",
    "app_rate['Indicator'] = 'Approx apprenticeship completion rate'\n",
    "app_rate.pop('Value_x')\n",
    "app_rate = app_rate[['AREACD', 'Indicator', 'Value']]"
   ]
  },
  {
   "cell_type": "code",
   "execution_count": null,
   "metadata": {
    "collapsed": true
   },
   "outputs": [],
   "source": [
    "#Select our groups of metrics\n",
    "productivity = [gva, high_growth]\n",
    "pay = [weekly_pay, gdi, employ_rate, neet]\n",
    "lstandards =[male_hle, female_hle, satisfaction, green_space, inactive]\n",
    "skills = [gcses, app_rate, maths_5, lit_5, comm_5]\n"
   ]
  },
  {
   "cell_type": "code",
   "execution_count": null,
   "metadata": {
    "collapsed": true
   },
   "outputs": [],
   "source": [
    "#Define the groups of metrics we have to streamline the processing.\n",
    "#Do all the cleaning at once.\n",
    "groups = [productivity, pay, lstandards, skills]\n",
    "for group in groups:\n",
    "    group = clean_groups(group)"
   ]
  },
  {
   "cell_type": "code",
   "execution_count": null,
   "metadata": {
    "collapsed": true
   },
   "outputs": [],
   "source": [
    "#Do the clustering.\n",
    "from cluster_analysis.cluster_functions import *"
   ]
  },
  {
   "cell_type": "code",
   "execution_count": null,
   "metadata": {
    "collapsed": true
   },
   "outputs": [],
   "source": [
    "productivity_wide = metrics_to_table(productivity)\n",
    "pay_wide = metrics_to_table(pay)\n",
    "lstandards_wide = metrics_to_table(lstandards)\n",
    "skills_wide = metrics_to_table(skills)"
   ]
  },
  {
   "cell_type": "code",
   "execution_count": null,
   "metadata": {},
   "outputs": [],
   "source": [
    "km_model = make_clustering_model()\n",
    "map = clusters_and_map(metrics_to_table(productivity), km_model)"
   ]
  },
  {
   "cell_type": "code",
   "execution_count": null,
   "metadata": {},
   "outputs": [],
   "source": [
    "analysis = clusters_and_plots(productivity_wide, km_model)"
   ]
  },
  {
   "cell_type": "code",
   "execution_count": null,
   "metadata": {},
   "outputs": [],
   "source": [
    "#Transform each group into a 'cluster' version using the basic KMeans model.\n",
    "prod_cluster = clusters_and_plots(productivity_wide, km_model, show_plots=True)\n",
    "pay_cluster = clusters_and_plots(pay_wide, km_model, show_plots=True)\n",
    "lstandards_cluster = clusters_and_plots(lstandards_wide, km_model, show_plots=True)\n",
    "skills_cluster = clusters_and_plots(skills_wide, km_model, show_plots=True)   \n"
   ]
  },
  {
   "cell_type": "code",
   "execution_count": null,
   "metadata": {},
   "outputs": [],
   "source": [
    "from data_vis.bubble_plots import *\n",
    "all_clusters = [prod_cluster, pay_cluster, lstandards_cluster, skills_cluster]\n",
    "\n",
    "#Annoyingly this function only works when declared at main level (not in module due to globals())\n",
    "def variable_to_name(var):\n",
    "    \"\"\"Helper function with takes in a variable and return a string of that variables name.\n",
    "    If the variable doesn't exist, will return null.\n",
    "    Might go wrong if there are multiple declared variables with identical values!\n",
    "    \"\"\"\n",
    "    for name in globals():\n",
    "        if (eval(name) is var) and (not name.startswith(\"_\")): #Omit variables in globals with begin with _, as __ is shorthand for last evaluated result and in jupyter notebooks _1 return output of cell evaluation 1 etc.\n",
    "            return(name)\n",
    "\n",
    "labels = [variable_to_name(all_clusters[i]) for i in range(len(all_clusters))]\n",
    "all_clusters = combine_clusters(all_clusters, labels)"
   ]
  },
  {
   "cell_type": "code",
   "execution_count": null,
   "metadata": {},
   "outputs": [],
   "source": [
    "plot_bubbles('prod_cluster', 'pay_cluster', all_clusters)\n",
    "plot_bubbles('prod_cluster', 'skills_cluster', all_clusters)\n",
    "plot_bubbles('prod_cluster', 'lstandards_cluster', all_clusters)"
   ]
  }
 ],
 "metadata": {
  "environment": {
   "kernel": "python3",
   "name": "common-cpu.m91",
   "type": "gcloud",
   "uri": "gcr.io/deeplearning-platform-release/base-cpu:m91"
  },
  "kernelspec": {
   "display_name": "Python 3",
   "language": "python",
   "name": "python3"
  },
  "language_info": {
   "codemirror_mode": {
    "name": "ipython",
    "version": 3
   },
   "file_extension": ".py",
   "mimetype": "text/x-python",
   "name": "python",
   "nbconvert_exporter": "python",
   "pygments_lexer": "ipython3",
   "version": "3.7.12"
  }
 },
 "nbformat": 4,
 "nbformat_minor": 5
}
